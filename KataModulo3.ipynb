{
 "cells": [
  {
   "cell_type": "markdown",
   "metadata": {},
   "source": [
    "# Asteroid Watcher"
   ]
  },
  {
   "cell_type": "code",
   "execution_count": 18,
   "metadata": {},
   "outputs": [
    {
     "name": "stdout",
     "output_type": "stream",
     "text": [
      "A dangerous asteroid heads to  earth\n"
     ]
    }
   ],
   "source": [
    "velocity=input(\"Please insert the speed of the asteroid in  earth direction (km/s)\")\n",
    "velocity=float(velocity)\n",
    "\n",
    "if velocity>25:\n",
    "    print(\"A dangerous asteroid heads to  earth\")\n",
    "else :\n",
    "    print(\"Have a nice day\")\n",
    "    "
   ]
  },
  {
   "cell_type": "markdown",
   "metadata": {},
   "source": [
    "# Meteor Shower"
   ]
  },
  {
   "cell_type": "code",
   "execution_count": 19,
   "metadata": {},
   "outputs": [
    {
     "name": "stdout",
     "output_type": "stream",
     "text": [
      "¡Nada que ver aquí!\n"
     ]
    }
   ],
   "source": [
    "asteroid_velocity=19\n",
    "\n",
    "if asteroid_velocity >= 20:\n",
    "    print('Look up! ¡Hay una luz mágica en el cielo!')\n",
    "\n",
    "else:\n",
    "    print('¡Nada que ver aquí!')"
   ]
  },
  {
   "cell_type": "markdown",
   "metadata": {},
   "source": [
    "# Asteroid Watcher 2.0"
   ]
  },
  {
   "cell_type": "code",
   "execution_count": 20,
   "metadata": {},
   "outputs": [
    {
     "name": "stdout",
     "output_type": "stream",
     "text": [
      "Look up! ¡Hay una luz mágica en el cielo!\n"
     ]
    }
   ],
   "source": [
    "asteroid_velocity=200\n",
    "asteroid_size=24\n",
    "if  asteroid_velocity > 25 and asteroid_size > 25:\n",
    "\n",
    "    print('¡Alerta, Un asteroide muy peligroso viene hacia la Tierra!')\n",
    "\n",
    "elif asteroid_velocity >= 20:\n",
    "\n",
    "    print('Look up! ¡Hay una luz mágica en el cielo!')\n",
    "\n",
    "else:\n",
    "    print('Nada que ver aquí :)')"
   ]
  }
 ],
 "metadata": {
  "interpreter": {
   "hash": "623f7ae4d3cc7524ff85d51ee10bb13419e7fa83423c97d80242bd7a8f7a030b"
  },
  "kernelspec": {
   "display_name": "Python 3.10.0 64-bit",
   "language": "python",
   "name": "python3"
  },
  "language_info": {
   "codemirror_mode": {
    "name": "ipython",
    "version": 3
   },
   "file_extension": ".py",
   "mimetype": "text/x-python",
   "name": "python",
   "nbconvert_exporter": "python",
   "pygments_lexer": "ipython3",
   "version": "3.10.0"
  },
  "orig_nbformat": 4
 },
 "nbformat": 4,
 "nbformat_minor": 2
}
